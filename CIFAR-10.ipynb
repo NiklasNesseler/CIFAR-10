{
  "cells": [
    {
      "cell_type": "code",
      "execution_count": 1,
      "metadata": {
        "id": "7_AGHwirhJTg"
      },
      "outputs": [],
      "source": [
        "import torch\n",
        "import torch.nn as nn\n",
        "import torch.nn.functional as F\n",
        "import torchvision\n",
        "import torchvision.transforms as transforms\n",
        "import matplotlib.pyplot as plt\n",
        "import numpy as np"
      ]
    },
    {
      "cell_type": "code",
      "execution_count": 2,
      "metadata": {
        "id": "6liFcUMzj2J4"
      },
      "outputs": [],
      "source": [
        "device = torch.device('cuda' if torch.cuda.is_available() else 'cpu')"
      ]
    },
    {
      "cell_type": "code",
      "execution_count": 3,
      "metadata": {
        "id": "L2_6ahBqj7NE"
      },
      "outputs": [],
      "source": [
        "# Hyperparameters\n",
        "num_epochs = 50\n",
        "batch_size = 128  # Increased batch size\n",
        "learning_rate = 0.001  # Reduced learning rate"
      ]
    },
    {
      "cell_type": "code",
      "execution_count": 4,
      "metadata": {
        "id": "q3k2orfJkFFY"
      },
      "outputs": [],
      "source": [
        "# Data preprocessing\n",
        "transform_train = transforms.Compose([\n",
        "    transforms.RandomHorizontalFlip(),\n",
        "    transforms.RandomCrop(32, padding=4),\n",
        "    transforms.ToTensor(),\n",
        "    transforms.Normalize((0.4914, 0.4822, 0.4465), (0.2023, 0.1994, 0.2010))  # CIFAR-10 specific stats\n",
        "])\n",
        "transform_test = transforms.Compose([\n",
        "    transforms.ToTensor(),\n",
        "    transforms.Normalize((0.4914, 0.4822, 0.4465), (0.2023, 0.1994, 0.2010))\n",
        "])"
      ]
    },
    {
      "cell_type": "code",
      "execution_count": 5,
      "metadata": {
        "colab": {
          "base_uri": "https://localhost:8080/"
        },
        "id": "QkwMyT7vlZCX",
        "outputId": "ab1716b8-91c2-4e5e-e654-c7033921485a"
      },
      "outputs": [
        {
          "output_type": "stream",
          "name": "stdout",
          "text": [
            "Downloading https://www.cs.toronto.edu/~kriz/cifar-10-python.tar.gz to ./data/cifar-10-python.tar.gz\n"
          ]
        },
        {
          "output_type": "stream",
          "name": "stderr",
          "text": [
            "100%|██████████| 170M/170M [00:02<00:00, 57.4MB/s]\n"
          ]
        },
        {
          "output_type": "stream",
          "name": "stdout",
          "text": [
            "Extracting ./data/cifar-10-python.tar.gz to ./data\n",
            "Files already downloaded and verified\n"
          ]
        }
      ],
      "source": [
        "train_dataset = torchvision.datasets.CIFAR10(root='./data', train=True, download=True, transform=transform_train)\n",
        "test_dataset = torchvision.datasets.CIFAR10(root='./data', train=False, download=True, transform=transform_test)\n",
        "\n",
        "\n",
        "train_loader = torch.utils.data.DataLoader(train_dataset, batch_size=batch_size, shuffle=True)\n",
        "test_loader = torch.utils.data.DataLoader(test_dataset, batch_size=batch_size, shuffle=False)\n",
        "\n",
        "classes = ('plane', 'car', 'bird', 'cat', 'deer', 'dog', 'frog', 'horse', 'ship', 'truck')"
      ]
    },
    {
      "cell_type": "code",
      "execution_count": 6,
      "metadata": {
        "id": "Pbypfetwlm-c"
      },
      "outputs": [],
      "source": [
        "class ConvNet(nn.Module):\n",
        "  def __init__(self):\n",
        "        super(ConvNet, self).__init__()\n",
        "        self.conv1 = nn.Conv2d(3, 64, 3, padding=1)\n",
        "        self.bn1 = nn.BatchNorm2d(64)\n",
        "        self.conv2 = nn.Conv2d(64, 128, 3, padding=1)\n",
        "        self.bn2 = nn.BatchNorm2d(128)\n",
        "        self.conv3 = nn.Conv2d(128, 256, 3, padding=1)\n",
        "        self.bn3 = nn.BatchNorm2d(256)\n",
        "\n",
        "        self.pool = nn.MaxPool2d(2, 2)\n",
        "        self.dropout = nn.Dropout(0.5)\n",
        "\n",
        "        self.fc1 = nn.Linear(256 * 4 * 4, 512)  # Adjusted for new feature map size\n",
        "        self.fc2 = nn.Linear(512, 10)\n",
        "\n",
        "  def forward(self, x):\n",
        "        x = self.pool(F.relu(self.bn1(self.conv1(x))))\n",
        "        x = self.pool(F.relu(self.bn2(self.conv2(x))))\n",
        "        x = self.pool(F.relu(self.bn3(self.conv3(x))))\n",
        "        x = x.view(-1, 256 * 4 * 4)\n",
        "        x = self.dropout(x)\n",
        "        x = F.relu(self.fc1(x))\n",
        "        x = self.dropout(x)\n",
        "        x = self.fc2(x)\n",
        "        return x\n",
        "\n"
      ]
    },
    {
      "cell_type": "code",
      "execution_count": 7,
      "metadata": {
        "colab": {
          "base_uri": "https://localhost:8080/"
        },
        "id": "M9qKv4c2mA9A",
        "outputId": "eca75e64-437e-4fb0-b00a-5f7c3c75d648"
      },
      "outputs": [
        {
          "output_type": "stream",
          "name": "stdout",
          "text": [
            "Epoch [1/50], Validation Loss: 1.2808, Accuracy: 52.88%\n",
            "Epoch [2/50], Validation Loss: 1.1829, Accuracy: 57.75%\n",
            "Epoch [3/50], Validation Loss: 1.0081, Accuracy: 63.68%\n",
            "Epoch [4/50], Validation Loss: 1.1752, Accuracy: 59.61%\n",
            "Epoch [5/50], Validation Loss: 0.8429, Accuracy: 69.55%\n",
            "Epoch [6/50], Validation Loss: 0.7937, Accuracy: 71.67%\n",
            "Epoch [7/50], Validation Loss: 0.7748, Accuracy: 72.08%\n",
            "Epoch [8/50], Validation Loss: 0.7451, Accuracy: 73.46%\n",
            "Epoch [9/50], Validation Loss: 0.8365, Accuracy: 71.44%\n",
            "Epoch [10/50], Validation Loss: 0.6890, Accuracy: 75.40%\n",
            "Epoch [11/50], Validation Loss: 0.6979, Accuracy: 76.09%\n",
            "Epoch [12/50], Validation Loss: 0.6540, Accuracy: 76.94%\n",
            "Epoch [13/50], Validation Loss: 0.6328, Accuracy: 78.11%\n",
            "Epoch [14/50], Validation Loss: 0.6243, Accuracy: 78.37%\n",
            "Epoch [15/50], Validation Loss: 0.6038, Accuracy: 79.04%\n",
            "Epoch [16/50], Validation Loss: 0.5766, Accuracy: 80.14%\n",
            "Epoch [17/50], Validation Loss: 0.6086, Accuracy: 79.05%\n",
            "Epoch [18/50], Validation Loss: 0.6124, Accuracy: 79.53%\n",
            "Epoch [19/50], Validation Loss: 0.5785, Accuracy: 80.50%\n",
            "Epoch [20/50], Validation Loss: 0.5413, Accuracy: 81.36%\n",
            "Epoch [21/50], Validation Loss: 0.5820, Accuracy: 79.85%\n",
            "Epoch [22/50], Validation Loss: 0.5843, Accuracy: 80.19%\n",
            "Epoch [23/50], Validation Loss: 0.5062, Accuracy: 82.85%\n",
            "Epoch [24/50], Validation Loss: 0.5218, Accuracy: 81.96%\n",
            "Epoch [25/50], Validation Loss: 0.5613, Accuracy: 81.43%\n",
            "Epoch [26/50], Validation Loss: 0.5104, Accuracy: 82.67%\n",
            "Epoch [27/50], Validation Loss: 0.4916, Accuracy: 83.14%\n",
            "Epoch [28/50], Validation Loss: 0.5085, Accuracy: 82.62%\n",
            "Epoch [29/50], Validation Loss: 0.4666, Accuracy: 84.10%\n",
            "Epoch [30/50], Validation Loss: 0.4934, Accuracy: 83.47%\n",
            "Epoch [31/50], Validation Loss: 0.4797, Accuracy: 83.85%\n",
            "Epoch [32/50], Validation Loss: 0.4918, Accuracy: 83.29%\n",
            "Epoch [33/50], Validation Loss: 0.4455, Accuracy: 84.75%\n",
            "Epoch [34/50], Validation Loss: 0.4583, Accuracy: 84.39%\n",
            "Epoch [35/50], Validation Loss: 0.5082, Accuracy: 83.12%\n",
            "Epoch [36/50], Validation Loss: 0.4485, Accuracy: 84.58%\n",
            "Epoch [37/50], Validation Loss: 0.4382, Accuracy: 84.90%\n",
            "Epoch [38/50], Validation Loss: 0.4556, Accuracy: 84.50%\n",
            "Epoch [39/50], Validation Loss: 0.4585, Accuracy: 84.63%\n",
            "Epoch [40/50], Validation Loss: 0.4268, Accuracy: 85.50%\n",
            "Epoch [41/50], Validation Loss: 0.4283, Accuracy: 85.54%\n",
            "Epoch [42/50], Validation Loss: 0.4263, Accuracy: 85.60%\n",
            "Epoch [43/50], Validation Loss: 0.4186, Accuracy: 85.85%\n",
            "Epoch [44/50], Validation Loss: 0.4592, Accuracy: 84.43%\n",
            "Epoch [45/50], Validation Loss: 0.4405, Accuracy: 85.74%\n",
            "Epoch [46/50], Validation Loss: 0.4311, Accuracy: 85.47%\n",
            "Epoch [47/50], Validation Loss: 0.4495, Accuracy: 85.18%\n",
            "Epoch [48/50], Validation Loss: 0.3945, Accuracy: 86.61%\n",
            "Epoch [49/50], Validation Loss: 0.3994, Accuracy: 86.68%\n",
            "Epoch [50/50], Validation Loss: 0.3868, Accuracy: 87.30%\n",
            "Finished Training\n"
          ]
        }
      ],
      "source": [
        "model = ConvNet().to(device)\n",
        "criterion = nn.CrossEntropyLoss()\n",
        "optimizer = torch.optim.Adam(model.parameters(), lr=learning_rate)\n",
        "scheduler = torch.optim.lr_scheduler.ReduceLROnPlateau(optimizer, \"min\", patience=3, factor=0.5)\n",
        "\n",
        "n_total_steps = len(train_loader)\n",
        "for epoch in range(num_epochs):\n",
        "  model.train()\n",
        "  running_loss = 0.0\n",
        "  for i, (images, labels) in enumerate(train_loader):\n",
        "    images = images.to(device)\n",
        "    labels = labels.to(device)\n",
        "\n",
        "    outputs = model(images)\n",
        "    loss = criterion(outputs, labels)\n",
        "\n",
        "    optimizer.zero_grad()\n",
        "    loss.backward()\n",
        "    optimizer.step()\n",
        "\n",
        "    running_loss += loss.item()\n",
        "\n",
        "    if (i+1) % 2000 == 0:\n",
        "      print(f'Epoch [{epoch+1}/{num_epochs}], Step [{i+1}/{n_total_steps}], Loss: {loss.item():.4f}')\n",
        "\n",
        "\n",
        "  model.eval()\n",
        "  val_loss = 0.0\n",
        "  correct = 0\n",
        "  total = 0\n",
        "  with torch.no_grad():\n",
        "    for images, labels in test_loader:\n",
        "      images = images.to(device)\n",
        "      labels = labels.to(device)\n",
        "      outputs = model(images)\n",
        "      val_loss += criterion(outputs, labels).item()\n",
        "      _, predicted = outputs.max(1)\n",
        "      total += labels.size(0)\n",
        "      correct += predicted.eq(labels).sum().item()\n",
        "\n",
        "  val_loss /= len(test_loader)\n",
        "  accuracy = 100.0 * correct / total\n",
        "  print(f\"Epoch [{epoch+1}/{num_epochs}], Validation Loss: {val_loss:.4f}, Accuracy: {accuracy:.2f}%\")\n",
        "  scheduler.step(val_loss)\n",
        "\n",
        "print(\"Finished Training\")"
      ]
    },
    {
      "cell_type": "code",
      "source": [],
      "metadata": {
        "id": "I2mY_5MYv1lD"
      },
      "execution_count": null,
      "outputs": []
    }
  ],
  "metadata": {
    "colab": {
      "provenance": []
    },
    "kernelspec": {
      "display_name": "Python 3",
      "name": "python3"
    },
    "language_info": {
      "name": "python"
    }
  },
  "nbformat": 4,
  "nbformat_minor": 0
}